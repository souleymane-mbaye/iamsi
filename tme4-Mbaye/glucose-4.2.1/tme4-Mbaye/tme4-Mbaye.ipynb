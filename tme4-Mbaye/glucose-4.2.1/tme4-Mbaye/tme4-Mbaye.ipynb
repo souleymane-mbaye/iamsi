{
 "cells": [
  {
   "attachments": {},
   "cell_type": "markdown",
   "metadata": {},
   "source": [
    "# TME 4 Souleymane Mbaye"
   ]
  },
  {
   "attachments": {},
   "cell_type": "markdown",
   "metadata": {},
   "source": [
    "Les tmes de IAMSI sont très interrestants. Certaines des fonctions que j'ai écrites sont optimisables. Et il y'a des clauses qui occurent plusieurs fois. J'aurais aimé les mettre à niveau mais il y'a beaucoup de choses à faire. Une première version qui fonctionne très très bien c'est l'essentiel je pense."
   ]
  },
  {
   "attachments": {},
   "cell_type": "markdown",
   "metadata": {},
   "source": [
    "## Exercice 1: Prise en main de glucose et DIMACS"
   ]
  },
  {
   "attachments": {},
   "cell_type": "markdown",
   "metadata": {},
   "source": [
    "La traduction de la formule F de l'exercie 2 est dans le fichier exercice2-Mbaye.cnf.\n",
    "bin/glucose_static tme4-Mbaye/exercice2.cnf nous rend bien s UNSATISFIABLE.\n",
    "\n",
    "La traduction de la première formule de l'exercice 4 du Td se trouve dans le fichier exercice4-1-Mbaye.cnf.\n",
    "bin/glucose_static -model tme4-Mbaye/exercice4_1-Mbaye.cnf nous rend:\n",
    "s SATISFIABLE\n",
    "v 1 -2 -3 4 -5 -6 7 -8 0. \n",
    "La formule est satisfiable avec {x1,-x2,-x3,x4,-x5,-x6,x7,-x8}.\n",
    "\n",
    "La traduction de la deuxième formule de l'exercice 4 du Td se trouve dans le fichier exercice4-2-Mbaye.cnf.\n",
    "bin/glucose_static -model tme4-Mbaye/exercice4-2-Mbaye.cnf nous rend:\n",
    "s SATISFIABLE\n",
    "v 1 -2 -3 4 5 -6 -7 -8 -9 10 -11 12 -13 -14 -15 -16 0\n",
    "La formule est satisfiable avec {x1, -x2, -x3, x4, x5, -x6, -x7, -x8, -x9, x10, -x11, x12, -x13, -x14, -15, -x16}."
   ]
  },
  {
   "attachments": {},
   "cell_type": "markdown",
   "metadata": {},
   "source": [
    "## Exercice 2: Modélisation"
   ]
  },
  {
   "attachments": {},
   "cell_type": "markdown",
   "metadata": {},
   "source": [
    "### Question 1"
   ]
  },
  {
   "attachments": {},
   "cell_type": "markdown",
   "metadata": {},
   "source": [
    "Nous avons m<sub>jxy</sub> la variable qui représente le match du jour j de l'équipe x jouant à domicile contre l'équipe y. Donc nous avons une combinaison de $nj*ne*ne$ = $nj*ne$<sup>2</sup> varibles propositionnelles possibles."
   ]
  },
  {
   "attachments": {},
   "cell_type": "markdown",
   "metadata": {},
   "source": [
    "### Question 2"
   ]
  },
  {
   "cell_type": "code",
   "execution_count": 6,
   "metadata": {},
   "outputs": [],
   "source": [
    "def codage(ne,nj,j,x,y):\n",
    "  if (nj <= j) or (ne <= x) or (ne <= y):\n",
    "    return -1\n",
    "  return j * (ne**2) + x*ne + y + 1"
   ]
  },
  {
   "attachments": {},
   "cell_type": "markdown",
   "metadata": {},
   "source": [
    "### Question 3"
   ]
  },
  {
   "cell_type": "code",
   "execution_count": 49,
   "metadata": {},
   "outputs": [],
   "source": [
    "def decodage(k,ne):\n",
    "  k -= 1  # k = j * (ne**2) + x*ne + y = ne(j*ne+x) + y\n",
    "  y = k % ne\n",
    "  k -= y  # k = = ne(j*ne+x)\n",
    "  k = k // ne # k = j*ne+x\n",
    "  x = k % ne\n",
    "  j = k // ne\n",
    "  \n",
    "  return j,x,y"
   ]
  },
  {
   "cell_type": "code",
   "execution_count": 3,
   "metadata": {},
   "outputs": [
    {
     "data": {
      "text/plain": [
       "(13, 4, 17)"
      ]
     },
     "execution_count": 3,
     "metadata": {},
     "output_type": "execute_result"
    }
   ],
   "source": [
    "ne = 20\n",
    "nj = ne * (ne-1) # chaque équipe accueille toutes les autres (si au pire un match par jour)\n",
    "j = 13\n",
    "x = 4\n",
    "y = 17\n",
    "\n",
    "k = codage(ne,nj,j,x,y)\n",
    "decodage(k,ne)"
   ]
  },
  {
   "attachments": {},
   "cell_type": "markdown",
   "metadata": {},
   "source": [
    "## Exercice 3: Génération d'un planning de match"
   ]
  },
  {
   "attachments": {},
   "cell_type": "markdown",
   "metadata": {},
   "source": [
    "### Question 1. Contrainte de cardinalité"
   ]
  },
  {
   "cell_type": "code",
   "execution_count": 18,
   "metadata": {},
   "outputs": [],
   "source": [
    "def clauses_format_dimacs(contraintes):\n",
    "  \"\"\"On reçoit une liste des clauses et on transforme les nombres en chaine de caractères et on ajoute le zéro de fin de ligne\n",
    "\n",
    "  Args:\n",
    "      contraintes (list[list]): liste de liste d'entiers, chaque sous liste est une clause représentée par ses entiers le composant\n",
    "\n",
    "  Returns:\n",
    "      str: retourne une chaine de caractères représentant toutes les contraintes de tous les clauses dans le format DIMACS\n",
    "  \"\"\"\n",
    "  contraintes_s = []\n",
    "  for cont in contraintes:\n",
    "    cont_s = [str(x) for x in cont]\n",
    "    cont_s = \" \".join(cont_s) + \" 0\"\n",
    "    contraintes_s.append(cont_s)\n",
    "  \n",
    "  return \"\\n\".join(contraintes_s)\n",
    "\n",
    "def generer_fichier_dimacs(ne,nj,clauses,nom_fic):\n",
    "  with open(nom_fic,'w') as f:\n",
    "    f.write('c Planning match\\n')\n",
    "    f.write(f\"p cnf {nj*ne*ne} {len(clauses)}\\n\")\n",
    "    f.write(clauses_format_dimacs(clauses))\n",
    "  "
   ]
  },
  {
   "cell_type": "code",
   "execution_count": 2,
   "metadata": {},
   "outputs": [],
   "source": [
    "def au_moins(l):\n",
    "  return  [[x for x in l]]  # rend une liste de clauses (ici un seul élément dans la liste)\n",
    "\n",
    "\n",
    "def au_plus(l):\n",
    "  # rend la liste des clauses (sans le zéro à la fin, on l'ajoutera quand on convertira en chaine de caractère)\n",
    "  clauses = []\n",
    "  for i in range(len(l)-1):\n",
    "    x = l[i]\n",
    "    for y in l[1+i:]:\n",
    "      clauses.append([-x,-y])\n",
    "  \n",
    "  return clauses"
   ]
  },
  {
   "cell_type": "code",
   "execution_count": 3,
   "metadata": {},
   "outputs": [
    {
     "name": "stdout",
     "output_type": "stream",
     "text": [
      "1 2 3 4 5 0\n",
      "-1 -2 0\n",
      "-1 -3 0\n",
      "-1 -4 0\n",
      "-1 -5 0\n",
      "-2 -3 0\n",
      "-2 -4 0\n",
      "-2 -5 0\n",
      "-3 -4 0\n",
      "-3 -5 0\n",
      "-4 -5 0\n"
     ]
    }
   ],
   "source": [
    "l = [1,2,3,4,5]\n",
    "print(clauses_format_dimacs(au_moins(l)))\n",
    "print(clauses_format_dimacs(au_plus(l)))"
   ]
  },
  {
   "attachments": {},
   "cell_type": "markdown",
   "metadata": {},
   "source": [
    "### Question 2. Traduction du problème"
   ]
  },
  {
   "attachments": {},
   "cell_type": "markdown",
   "metadata": {},
   "source": [
    "#### 1. Chaque équipe ne peut jouer plus d'un match par jour"
   ]
  },
  {
   "attachments": {},
   "cell_type": "markdown",
   "metadata": {},
   "source": [
    "Pour toute équipe x et un jour j nous avons $\\sum\\limits_{y=1}^{ne} m_{j,x,y} + m_{j,y,x} <= 1$. Une équipe ne peut contre elle même non plus."
   ]
  },
  {
   "cell_type": "code",
   "execution_count": 23,
   "metadata": {},
   "outputs": [],
   "source": [
    "def equipe_match_par_jour(ne,nj,j,x):\n",
    "  # tous matchs possible avec x le jour j\n",
    "  l = [codage(ne,nj,j,x,y) for y in range(ne) if y!=x] + [codage(ne,nj,j,y,x) for y in range(ne) if y!=x]\n",
    "\n",
    "  return [[-codage(ne,nj,j,x,x)]] + au_plus(l)  # une équipe ne peut jouer contre elle même"
   ]
  },
  {
   "cell_type": "code",
   "execution_count": 7,
   "metadata": {},
   "outputs": [
    {
     "name": "stdout",
     "output_type": "stream",
     "text": [
      "-23 0\n",
      "-22 -24 0\n",
      "-22 -20 0\n",
      "-22 -26 0\n",
      "-24 -20 0\n",
      "-24 -26 0\n",
      "-20 -26 0\n"
     ]
    }
   ],
   "source": [
    "ne = 3 # Par exemple\n",
    "nj = ne*(ne-1)\n",
    "x = 1\n",
    "j = 2\n",
    "print(clauses_format_dimacs(equipe_match_par_jour(ne,nj,j,x)))"
   ]
  },
  {
   "attachments": {},
   "cell_type": "markdown",
   "metadata": {},
   "source": [
    "#### 2. Fonction encoderC1"
   ]
  },
  {
   "cell_type": "markdown",
   "metadata": {},
   "source": [
    "Pour toute équipe x et un jour j nous avons $\\sum\\limits_{y=1}^{ne} m_{j,x,y} + m_{j,y,x} <= 1$. Une équipe ne peut contre elle même non plus."
   ]
  },
  {
   "cell_type": "code",
   "execution_count": 10,
   "metadata": {},
   "outputs": [],
   "source": [
    "def encoderC1(ne,nj):\n",
    "  clauses = []\n",
    "  for j in range(nj):\n",
    "    for x in range(ne):\n",
    "      clauses.extend(equipe_match_par_jour(ne,nj,j,x))\n",
    "      \n",
    "  return clauses"
   ]
  },
  {
   "attachments": {},
   "cell_type": "markdown",
   "metadata": {},
   "source": [
    "#### 3. Nombre de contraintes et de clauses pour 3 équipes sur 4 jours"
   ]
  },
  {
   "cell_type": "code",
   "execution_count": 11,
   "metadata": {},
   "outputs": [
    {
     "name": "stdout",
     "output_type": "stream",
     "text": [
      "Nb clauses: 84\n",
      "-1 0\n",
      "-2 -3 0\n",
      "-2 -4 0\n",
      "-2 -7 0\n",
      "-3 -4 0\n",
      "-3 -7 0\n",
      "-4 -7 0\n",
      "-5 0\n",
      "-4 -6 0\n",
      "-4 -2 0\n",
      "-4 -8 0\n",
      "-6 -2 0\n",
      "-6 -8 0\n",
      "-2 -8 0\n",
      "-9 0\n",
      "-7 -8 0\n",
      "-7 -3 0\n",
      "-7 -6 0\n",
      "-8 -3 0\n",
      "-8 -6 0\n",
      "-3 -6 0\n",
      "-10 0\n",
      "-11 -12 0\n",
      "-11 -13 0\n",
      "-11 -16 0\n",
      "-12 -13 0\n",
      "-12 -16 0\n",
      "-13 -16 0\n",
      "-14 0\n",
      "-13 -15 0\n",
      "-13 -11 0\n",
      "-13 -17 0\n",
      "-15 -11 0\n",
      "-15 -17 0\n",
      "-11 -17 0\n",
      "-18 0\n",
      "-16 -17 0\n",
      "-16 -12 0\n",
      "-16 -15 0\n",
      "-17 -12 0\n",
      "-17 -15 0\n",
      "-12 -15 0\n",
      "-19 0\n",
      "-20 -21 0\n",
      "-20 -22 0\n",
      "-20 -25 0\n",
      "-21 -22 0\n",
      "-21 -25 0\n",
      "-22 -25 0\n",
      "-23 0\n",
      "-22 -24 0\n",
      "-22 -20 0\n",
      "-22 -26 0\n",
      "-24 -20 0\n",
      "-24 -26 0\n",
      "-20 -26 0\n",
      "-27 0\n",
      "-25 -26 0\n",
      "-25 -21 0\n",
      "-25 -24 0\n",
      "-26 -21 0\n",
      "-26 -24 0\n",
      "-21 -24 0\n",
      "-28 0\n",
      "-29 -30 0\n",
      "-29 -31 0\n",
      "-29 -34 0\n",
      "-30 -31 0\n",
      "-30 -34 0\n",
      "-31 -34 0\n",
      "-32 0\n",
      "-31 -33 0\n",
      "-31 -29 0\n",
      "-31 -35 0\n",
      "-33 -29 0\n",
      "-33 -35 0\n",
      "-29 -35 0\n",
      "-36 0\n",
      "-34 -35 0\n",
      "-34 -30 0\n",
      "-34 -33 0\n",
      "-35 -30 0\n",
      "-35 -33 0\n",
      "-30 -33 0\n"
     ]
    }
   ],
   "source": [
    "ne = 3\n",
    "nj = 4\n",
    "conts = encoderC1(ne,nj)\n",
    "print('Nb clauses:',len(conts))\n",
    "print(clauses_format_dimacs(conts))"
   ]
  },
  {
   "attachments": {},
   "cell_type": "markdown",
   "metadata": {},
   "source": [
    "Sur chaque jour de match pour chaque équipe une contrainte. nb<sub>cont</sub>=$4*3$=12. Chaque contrainte est traduite par $C_{2*(ne-1)}^2+1$ clauses. Donc Nb<sub>clauses</sub>$=12*(C_{4}^2+1) = 12*(6+1) = 12*7 = 84$. Mais dans ce cas il y'a beaucoup de répétition de clauses."
   ]
  },
  {
   "attachments": {},
   "cell_type": "markdown",
   "metadata": {},
   "source": [
    "#### 4. Chaque équipe doit rencontrer l'ensemble des autres équipes, une fois à domicile et une fois à l'extérieur."
   ]
  },
  {
   "attachments": {},
   "cell_type": "markdown",
   "metadata": {},
   "source": [
    "Pour tout couple d'équipe x et y, x!=y nous avons pas plus d'un match à domicile de chaque coté $\\sum\\limits_{j=1}^{nj} m_{j,x,y} <= 1$ ; $\\sum\\limits_{j=1}^{nj} m_{j,y,x} <= 1$.\n",
    "</br>Et au moins un match chacun sur son terrain $\\sum\\limits_{j=1}^{nj} m_{j,x,y} >= 1$ ; $\\sum\\limits_{j=1}^{nj} m_{j,y,x} >= 1$"
   ]
  },
  {
   "attachments": {},
   "cell_type": "markdown",
   "metadata": {},
   "source": [
    "#### 5. Fonction encoderC2"
   ]
  },
  {
   "cell_type": "code",
   "execution_count": 16,
   "metadata": {},
   "outputs": [],
   "source": [
    "def encoderC2(ne,nj):\n",
    "  clauses = []\n",
    "  # pour chaque couple d'équipe x!=y\n",
    "  for x in range(ne):\n",
    "    for y in range(x+1,ne):\n",
    "      lx = [codage(ne,nj,j,x,y) for j in range(nj)] # sur le terrain de x\n",
    "      ly = [codage(ne,nj,j,y,x) for j in range(nj)] # sur le terrain de y\n",
    "\n",
    "      # au moins un match sur le terrain de x et y aussi\n",
    "      au_m_x = au_moins(lx)\n",
    "      au_m_y = au_moins(ly)\n",
    "\n",
    "      # au plus un match sur chaque terrain\n",
    "      au_p_x = au_plus(lx)\n",
    "      au_p_y = au_plus(ly)\n",
    "\n",
    "      # on les ajoute dans l'ensemble des clauses\n",
    "      clauses.extend(au_m_x)\n",
    "      clauses.extend(au_m_y)\n",
    "      clauses.extend(au_p_x)\n",
    "      clauses.extend(au_p_y)\n",
    "  \n",
    "  return clauses"
   ]
  },
  {
   "attachments": {},
   "cell_type": "markdown",
   "metadata": {},
   "source": [
    "#### 6. Nombre de contraintes et de clauses pour 3 équipes sur 4 jours."
   ]
  },
  {
   "cell_type": "code",
   "execution_count": 79,
   "metadata": {},
   "outputs": [
    {
     "name": "stdout",
     "output_type": "stream",
     "text": [
      "Nb clauses: 42\n",
      "[[2, 11, 20, 29], [4, 13, 22, 31], [-2, -11], [-2, -20], [-2, -29], [-11, -20], [-11, -29], [-20, -29], [-4, -13], [-4, -22], [-4, -31], [-13, -22], [-13, -31], [-22, -31], [3, 12, 21, 30], [7, 16, 25, 34], [-3, -12], [-3, -21], [-3, -30], [-12, -21], [-12, -30], [-21, -30], [-7, -16], [-7, -25], [-7, -34], [-16, -25], [-16, -34], [-25, -34], [6, 15, 24, 33], [8, 17, 26, 35], [-6, -15], [-6, -24], [-6, -33], [-15, -24], [-15, -33], [-24, -33], [-8, -17], [-8, -26], [-8, -35], [-17, -26], [-17, -35], [-26, -35]]\n"
     ]
    }
   ],
   "source": [
    "ne = 3\n",
    "nj = 4\n",
    "conts = encoderC2(ne,nj)\n",
    "print('Nb clauses:',len(conts))\n",
    "print(conts)"
   ]
  },
  {
   "attachments": {},
   "cell_type": "markdown",
   "metadata": {},
   "source": [
    "Pour chaque couple d'équipe, combinaison de 2 parmi 3, $C_{3}^2 = 3$ cas. Pour chacun 4 contraintes donc $3*4=12$ contraintes.\n",
    "Les contraintes au moins 1 sont convertis en une seule clause ou. Et les contraintes au plus un par une combinaison de 2 parmi nj clauses donc Nb<sub>clauses</sub> $=3*(2+2*C_{4}^2)=3*14$ = 42 clauses."
   ]
  },
  {
   "attachments": {},
   "cell_type": "markdown",
   "metadata": {},
   "source": [
    "#### 7. Fonction encoder qui encode les contraintes de C1 et C2"
   ]
  },
  {
   "cell_type": "code",
   "execution_count": 28,
   "metadata": {},
   "outputs": [],
   "source": [
    "def encoder(ne,nj):\n",
    "  return encoderC1(ne,nj) + encoderC2(ne,nj)"
   ]
  },
  {
   "attachments": {},
   "cell_type": "markdown",
   "metadata": {},
   "source": [
    "### Question 3. Utilisation du solveur"
   ]
  },
  {
   "cell_type": "code",
   "execution_count": 48,
   "metadata": {},
   "outputs": [],
   "source": [
    "ne = 3\n",
    "nj = 6\n",
    "clauses = encoder(ne,nj)\n",
    "generer_fichier_dimacs(ne,nj,clauses,\"match-championnat-ne3-nj4.cnf\")"
   ]
  },
  {
   "cell_type": "code",
   "execution_count": 34,
   "metadata": {},
   "outputs": [
    {
     "name": "stdout",
     "output_type": "stream",
     "text": [
      "(0, 1, 0)\n",
      "(1, 2, 1)\n",
      "(2, 0, 1)\n",
      "(3, 1, 2)\n",
      "(4, 2, 0)\n",
      "(5, 0, 2)\n"
     ]
    }
   ],
   "source": [
    "lk = [4,17,20,33,43,48]\n",
    "for k in lk:\n",
    "  print(decodage(k,ne))"
   ]
  },
  {
   "attachments": {},
   "cell_type": "markdown",
   "metadata": {},
   "source": [
    "Pour mon cas va à merveille. On ajoute rien du tout. Cependant il faut que le nombre de jours soit au moins égal à 6. Trois équipes, du coup pas plus d'un match par jour."
   ]
  },
  {
   "attachments": {},
   "cell_type": "markdown",
   "metadata": {},
   "source": [
    "### Question 4. Fonction de décodage du résultat de planning"
   ]
  },
  {
   "cell_type": "code",
   "execution_count": 122,
   "metadata": {},
   "outputs": [],
   "source": [
    "def decoder_fichier(ne,fic_glucose,fic_noms_eq=False,fic_planning=False):\n",
    "  # traduction du résultat\n",
    "  lm = []\n",
    "  with open(fic_glucose,\"r\") as f:\n",
    "    l = f.readline()\n",
    "    lk = l.split(\" \")\n",
    "    for k in lk:\n",
    "      k = int(k)\n",
    "      if k > 0:\n",
    "        lm.append(decodage(k,ne))\n",
    "  \n",
    "  noms = []\n",
    "  # lecture des noms des équipes\n",
    "  if fic_noms_eq != False:\n",
    "    with open(fic_noms_eq,\"r\") as f:\n",
    "      noms = f.readlines()\n",
    "    for i in range(len(noms)):\n",
    "      noms[i] = noms[i][:-1]\n",
    "  else:\n",
    "    # si pas de noms d'équipes donnés(noms par défaut)\n",
    "    noms = [f\"equipe {i}\" for i in range(1,1+ne)]\n",
    "  \n",
    "  # ecriture dans le fichier de planning des matchs du championnat\n",
    "  if fic_planning != False:\n",
    "    with open(fic_planning,\"w\") as f:\n",
    "      f.write(\"Planning des matchs du championnat:\\n\")\n",
    "      j0 = -1\n",
    "      for j,x,y in lm:\n",
    "        if j != j0:\n",
    "          j0 = j\n",
    "          f.write(f\"\\nJournée {j+1} :\\n\")\n",
    "        \n",
    "        f.write(f\"\\t{noms[x]} vs {noms[y]}\\n\")\n",
    "  else:\n",
    "    # Affichage si pas de noms de fichier de sortie\n",
    "    print(\"Planning des matchs du championnat:\\n\\n\")\n",
    "    j0 = -1\n",
    "    for j,x,y in lm:\n",
    "      if j != j0:\n",
    "        j0 = j\n",
    "        print(f\"\\nJournée {j+1} :\\n\")\n",
    "      \n",
    "      print(f\"\\t{noms[x]} vs {noms[y]}\\n\")"
   ]
  },
  {
   "cell_type": "code",
   "execution_count": 43,
   "metadata": {},
   "outputs": [],
   "source": [
    "decoder_fichier(ne,\"sortie.txt\",\"noms-equipes.txt\",\"planning.txt\")"
   ]
  },
  {
   "attachments": {},
   "cell_type": "markdown",
   "metadata": {},
   "source": [
    "### Question 5. Script python"
   ]
  },
  {
   "attachments": {},
   "cell_type": "markdown",
   "metadata": {},
   "source": [
    "J'ai écrit le script python planning-Mbaye.py dans le dossier tme4-Mbaye. Ce dossier se trouve dans le répertoire glucose-4.2.1. J'ai placé l'exécutable glucose_static dans le dossier bin.</br>\n",
    "Pour lancer le script, se placer dans le dossier glucose-4.2.1.</br>\n",
    "Trois cas d'usage possible.</br>\n",
    "Usage 1: python3 tme4-Mbaye/planning-Mbaye.py _nombre-d'équipes_ _nombre-de-jours_</br>\n",
    "Usage 2: python3 tme4-Mbaye/planning-Mbaye.py _nombre-d'équipes_ _nombre-de-jours_ _nom-fichier-noms-équipes_</br>\n",
    "Usage 3: python3 tme4-Mbaye/planning-Mbaye.py _nombre-d'équipes_ _nombre-de-jours_ _nom-fichier-noms-équipes_  _nom-fichier-planning_"
   ]
  },
  {
   "attachments": {},
   "cell_type": "markdown",
   "metadata": {},
   "source": [
    "## Exercice 4. Nombre de jours minimal"
   ]
  },
  {
   "attachments": {},
   "cell_type": "markdown",
   "metadata": {},
   "source": [
    "Si le nombre d'équipe ne est pair alors pour une journée toutes les équipes peuvent jouer un match. Ainsi pour jouer contre toutes les autres équipes aller et retour il faut $2*(ne-1)$ jours. C'est suffisant !</br>\n",
    "Sinon si ne impair alors seules $ne-1$ équipes peuvent jouer pendant un jour. Il faudrait 2 jours pour que chaque équipe ait joué au moins un match. Les $ne-1$ équipes jouent des journées complètes en $2*(ne-2)$ jours et l'équipe restante $2*(ne-1)$ jours de match avec les $ne-1$. Ainsi faudrait $2*(ne-2)+2*(ne-1)=4*ne-6$ jours au moins."
   ]
  },
  {
   "attachments": {},
   "cell_type": "markdown",
   "metadata": {},
   "source": [
    "## Exercice 5. Extension : équilibrer les déplacements et les week-ends"
   ]
  },
  {
   "attachments": {},
   "cell_type": "markdown",
   "metadata": {},
   "source": [
    "### Question 1. Traduction en contraintes de cardinalité"
   ]
  },
  {
   "attachments": {},
   "cell_type": "markdown",
   "metadata": {},
   "source": [
    "Il faudrait que tout (k+1)uplet de variables il y ait au moins un littéral qui soit évalué à faux."
   ]
  },
  {
   "cell_type": "markdown",
   "metadata": {},
   "source": [
    "#### Matchs le dimanche"
   ]
  },
  {
   "attachments": {},
   "cell_type": "markdown",
   "metadata": {},
   "source": [
    "(a) Chaque équipe joue au moins p<sub>ext</sub>% de ses matchs à l'extérieur le dimanche. $\\sum\\limits_{j=1}^{nj} \\sum\\limits_{y=1}^{ne} m_{j,y,x} >= p*nj/2$. avec j%2=1 pour les jours de dimanche, jours impairs."
   ]
  },
  {
   "attachments": {},
   "cell_type": "markdown",
   "metadata": {},
   "source": [
    "(b) Chaque équipe joue au moins p<sub>dom</sub>% de ses matchs à domicile le dimanche. $\\sum\\limits_{j=1}^{nj} \\sum\\limits_{y=1}^{ne} m_{j,x,y} >= p*nj/2$. avec j%2=1 pour les jours de dimanche, jours impairs."
   ]
  },
  {
   "cell_type": "markdown",
   "metadata": {},
   "source": [
    "#### Matchs le consécutifs"
   ]
  },
  {
   "attachments": {},
   "cell_type": "markdown",
   "metadata": {},
   "source": [
    "(a) Aucune équipe ne joue (strictement) plus de deux matchs consécutifs à l'extérieur. Tout triplet de trois mactchs consécutifs, trois jours consécutifs, il faut au moins un à domicile."
   ]
  },
  {
   "attachments": {},
   "cell_type": "markdown",
   "metadata": {},
   "source": [
    "(b) Aucune équipe ne joue (strictement) plus de deux matchs consécutifs à domicile. Tout triplet de trois mactchs consécutifs, trois jours consécutifs, il faut au moins un à domicile."
   ]
  },
  {
   "attachments": {},
   "cell_type": "markdown",
   "metadata": {},
   "source": [
    "### Question 2. Encodage des contraintes de cardinalités au plus k"
   ]
  },
  {
   "cell_type": "code",
   "execution_count": 96,
   "metadata": {},
   "outputs": [],
   "source": [
    "def generer_combinaisons_rec(l, i, lse, out=[]):\n",
    "\n",
    "  # si tous les éléments sont traités, on ajoute le sous-ensemble courant dans la liste des sous-ensembles\n",
    "  if i < 0:\n",
    "    lse.append(out.copy())\n",
    "    return\n",
    "\n",
    "  # inclut l'élément courant dans le sous-ensemble courant et se reproduit\n",
    "  out.append(l[i])\n",
    "  generer_combinaisons_rec(l, i - 1, lse, out)\n",
    "\n",
    "  # backtrack : exclure l'élément courant du sous-ensemble courant\n",
    "  out.pop()\n",
    "\n",
    "  # supprimer les éléments en double adjacents\n",
    "  while i > 0 and l[i] == l[i - 1]:\n",
    "    i = i - 1\n",
    "\n",
    "  # exclure l'élément courant du sous-ensemble courant et se reproduire\n",
    "  generer_combinaisons_rec(l, i - 1, lse, out)\n",
    "\n",
    "def generer_combinaisons(l):\n",
    "  lse = []\n",
    "  l.sort()\n",
    "  generer_combinaisons_rec(l, len(l)-1,lse)\n",
    "  \n",
    "  return lse"
   ]
  },
  {
   "cell_type": "code",
   "execution_count": 105,
   "metadata": {},
   "outputs": [],
   "source": [
    "def au_plus_k(l,k):\n",
    "  l.sort()\n",
    "  l = [-x for x in l]\n",
    "  lse = generer_combinaisons(l)\n",
    "  clauses = [se for se in lse if len(se)==(k+1)]\n",
    "  \n",
    "  return clauses\n",
    "\n",
    "def au_moins_k(l,k):\n",
    "  l = [-x for x in l]\n",
    "  return au_plus_k(l,len(l)-k)"
   ]
  },
  {
   "cell_type": "code",
   "execution_count": 98,
   "metadata": {},
   "outputs": [
    {
     "data": {
      "text/plain": [
       "[[-1, -2, -3], [-1, -2, -4], [-1, -3, -4], [-2, -3, -4]]"
      ]
     },
     "execution_count": 98,
     "metadata": {},
     "output_type": "execute_result"
    }
   ],
   "source": [
    "l = [1,2,3,4]\n",
    "k = 2\n",
    "au_plus_k(l,k)"
   ]
  },
  {
   "cell_type": "code",
   "execution_count": 99,
   "metadata": {},
   "outputs": [
    {
     "data": {
      "text/plain": [
       "[[-1, -2, -3, -4]]"
      ]
     },
     "execution_count": 99,
     "metadata": {},
     "output_type": "execute_result"
    }
   ],
   "source": [
    "l = [1,2,3,4]\n",
    "k = 3\n",
    "au_plus_k(l,k)"
   ]
  },
  {
   "cell_type": "code",
   "execution_count": 100,
   "metadata": {},
   "outputs": [
    {
     "data": {
      "text/plain": [
       "[[-1, -2], [-1, -3], [-1, -4], [-2, -3], [-2, -4], [-3, -4]]"
      ]
     },
     "execution_count": 100,
     "metadata": {},
     "output_type": "execute_result"
    }
   ],
   "source": [
    "l = [1,2,3,4]\n",
    "k = 1\n",
    "au_plus_k(l,k)"
   ]
  },
  {
   "attachments": {},
   "cell_type": "markdown",
   "metadata": {},
   "source": [
    "### Question 3. Encodage du problème étendu"
   ]
  },
  {
   "attachments": {},
   "cell_type": "markdown",
   "metadata": {},
   "source": [
    "#### Matchs le dimanche"
   ]
  },
  {
   "cell_type": "code",
   "execution_count": 111,
   "metadata": {},
   "outputs": [],
   "source": [
    "def exterieur_dimanche(ne,nj,p=0.5):\n",
    "  k = int(nj*p/2) # nombre de match à l'exterieur au moins\n",
    "  clauses = []\n",
    "  j_dimanche = [j for j in range(nj) if j%2==1]\n",
    "  for x in range(ne):\n",
    "    lx = [codage(ne,nj,j,y,x) for j in j_dimanche for y in range(ne) if y!=x]\n",
    "    clauses_x = au_moins_k(lx,k)\n",
    "    clauses.extend(clauses_x)\n",
    "  \n",
    "  return clauses\n",
    "\n",
    "def domicile_dimanche(ne,nj,p=0.4):\n",
    "  k = int(nj*p/2) # nombre de match à domicile au moins\n",
    "  clauses = []\n",
    "  j_dimanche = [j for j in range(nj) if j%2==1]\n",
    "  for x in range(ne):\n",
    "    lx = [codage(ne,nj,j,x,y) for j in j_dimanche for y in range(ne) if y!=x]\n",
    "    clauses_x = au_moins_k(lx,k)\n",
    "    clauses.extend(clauses_x)\n",
    "  \n",
    "  return clauses"
   ]
  },
  {
   "cell_type": "code",
   "execution_count": 117,
   "metadata": {},
   "outputs": [
    {
     "data": {
      "text/plain": [
       "[[52, 49, 34, 31, 16, 13], [53, 47, 35, 29, 17, 11], [51, 48, 33, 30, 15, 12]]"
      ]
     },
     "execution_count": 117,
     "metadata": {},
     "output_type": "execute_result"
    }
   ],
   "source": [
    "exterieur_dimanche(3,6)"
   ]
  },
  {
   "cell_type": "code",
   "execution_count": 116,
   "metadata": {},
   "outputs": [
    {
     "data": {
      "text/plain": [
       "[[48, 47, 30, 29, 12, 11], [51, 49, 33, 31, 15, 13], [53, 52, 35, 34, 17, 16]]"
      ]
     },
     "execution_count": 116,
     "metadata": {},
     "output_type": "execute_result"
    }
   ],
   "source": [
    "domicile_dimanche(3,6)"
   ]
  },
  {
   "attachments": {},
   "cell_type": "markdown",
   "metadata": {},
   "source": [
    "#### Matchs le consécutifs"
   ]
  },
  {
   "cell_type": "code",
   "execution_count": 113,
   "metadata": {},
   "outputs": [],
   "source": [
    "def exterieur_consecutifs(ne,nj):\n",
    "  clauses = []\n",
    "  for x in range(ne):\n",
    "    for j in range(nj-3):\n",
    "      # matchs de trois jours consécutifs avec x\n",
    "      clauses_x = [[-codage(ne,nj,j,y1,x),-codage(ne,nj,j+1,y2,x),-codage(ne,nj,j+2,y3,x)] for y1 in range(ne) for y2 in range(ne) for y3 in range(ne)]\n",
    "      clauses.extend(clauses_x)\n",
    "  \n",
    "  return clauses\n",
    "\n",
    "def domicile_consecutifs(ne,nj):\n",
    "  clauses = []\n",
    "  for x in range(ne):\n",
    "    for j in range(nj-3):\n",
    "      # matchs de trois jours consécutifs avec x\n",
    "      clauses_x = [[-codage(ne,nj,j,x,y1),-codage(ne,nj,j+1,x,y2),-codage(ne,nj,j+2,x,y3)] for y1 in range(ne) for y2 in range(ne) for y3 in range(ne)]\n",
    "      clauses.extend(clauses_x)\n",
    "  \n",
    "  return clauses"
   ]
  },
  {
   "cell_type": "code",
   "execution_count": 114,
   "metadata": {},
   "outputs": [
    {
     "data": {
      "text/plain": [
       "[[-1, -10, -19],\n",
       " [-1, -10, -22],\n",
       " [-1, -10, -25],\n",
       " [-1, -13, -19],\n",
       " [-1, -13, -22],\n",
       " [-1, -13, -25],\n",
       " [-1, -16, -19],\n",
       " [-1, -16, -22],\n",
       " [-1, -16, -25],\n",
       " [-4, -10, -19],\n",
       " [-4, -10, -22],\n",
       " [-4, -10, -25],\n",
       " [-4, -13, -19],\n",
       " [-4, -13, -22],\n",
       " [-4, -13, -25],\n",
       " [-4, -16, -19],\n",
       " [-4, -16, -22],\n",
       " [-4, -16, -25],\n",
       " [-7, -10, -19],\n",
       " [-7, -10, -22],\n",
       " [-7, -10, -25],\n",
       " [-7, -13, -19],\n",
       " [-7, -13, -22],\n",
       " [-7, -13, -25],\n",
       " [-7, -16, -19],\n",
       " [-7, -16, -22],\n",
       " [-7, -16, -25],\n",
       " [-2, -11, -20],\n",
       " [-2, -11, -23],\n",
       " [-2, -11, -26],\n",
       " [-2, -14, -20],\n",
       " [-2, -14, -23],\n",
       " [-2, -14, -26],\n",
       " [-2, -17, -20],\n",
       " [-2, -17, -23],\n",
       " [-2, -17, -26],\n",
       " [-5, -11, -20],\n",
       " [-5, -11, -23],\n",
       " [-5, -11, -26],\n",
       " [-5, -14, -20],\n",
       " [-5, -14, -23],\n",
       " [-5, -14, -26],\n",
       " [-5, -17, -20],\n",
       " [-5, -17, -23],\n",
       " [-5, -17, -26],\n",
       " [-8, -11, -20],\n",
       " [-8, -11, -23],\n",
       " [-8, -11, -26],\n",
       " [-8, -14, -20],\n",
       " [-8, -14, -23],\n",
       " [-8, -14, -26],\n",
       " [-8, -17, -20],\n",
       " [-8, -17, -23],\n",
       " [-8, -17, -26],\n",
       " [-3, -12, -21],\n",
       " [-3, -12, -24],\n",
       " [-3, -12, -27],\n",
       " [-3, -15, -21],\n",
       " [-3, -15, -24],\n",
       " [-3, -15, -27],\n",
       " [-3, -18, -21],\n",
       " [-3, -18, -24],\n",
       " [-3, -18, -27],\n",
       " [-6, -12, -21],\n",
       " [-6, -12, -24],\n",
       " [-6, -12, -27],\n",
       " [-6, -15, -21],\n",
       " [-6, -15, -24],\n",
       " [-6, -15, -27],\n",
       " [-6, -18, -21],\n",
       " [-6, -18, -24],\n",
       " [-6, -18, -27],\n",
       " [-9, -12, -21],\n",
       " [-9, -12, -24],\n",
       " [-9, -12, -27],\n",
       " [-9, -15, -21],\n",
       " [-9, -15, -24],\n",
       " [-9, -15, -27],\n",
       " [-9, -18, -21],\n",
       " [-9, -18, -24],\n",
       " [-9, -18, -27]]"
      ]
     },
     "execution_count": 114,
     "metadata": {},
     "output_type": "execute_result"
    }
   ],
   "source": [
    "exterieur_consecutifs(3,4)"
   ]
  },
  {
   "cell_type": "code",
   "execution_count": 118,
   "metadata": {},
   "outputs": [],
   "source": [
    "def encoder_extension(ne,nj):\n",
    "  return encoder(ne,nj)+\\\n",
    "    exterieur_dimanche(ne,nj)+\\\n",
    "    domicile_dimanche(ne,nj)+\\\n",
    "    exterieur_consecutifs(ne,nj)"
   ]
  },
  {
   "cell_type": "code",
   "execution_count": 119,
   "metadata": {},
   "outputs": [],
   "source": [
    "ne = 3\n",
    "nj = 6\n",
    "clauses = encoder(ne,nj)\n",
    "generer_fichier_dimacs(ne,nj,clauses,f\"log/match-championnat-extension-ne-{ne}-nj-{nj}.cnf\")"
   ]
  },
  {
   "cell_type": "code",
   "execution_count": 125,
   "metadata": {},
   "outputs": [
    {
     "name": "stdout",
     "output_type": "stream",
     "text": [
      "Planning des matchs du championnat:\n",
      "\n",
      "\n",
      "\n",
      "Journée 1 :\n",
      "\n",
      "\tMarseille vs Paris Saint-Germain\n",
      "\n",
      "\n",
      "Journée 2 :\n",
      "\n",
      "\tLyon vs Marseille\n",
      "\n",
      "\n",
      "Journée 3 :\n",
      "\n",
      "\tParis Saint-Germain vs Marseille\n",
      "\n",
      "\n",
      "Journée 4 :\n",
      "\n",
      "\tMarseille vs Lyon\n",
      "\n",
      "\n",
      "Journée 5 :\n",
      "\n",
      "\tLyon vs Paris Saint-Germain\n",
      "\n",
      "\n",
      "Journée 6 :\n",
      "\n",
      "\tParis Saint-Germain vs Lyon\n",
      "\n"
     ]
    }
   ],
   "source": [
    "decoder_fichier(ne,\"log/sortie.txt\",\"noms-equipes.txt\")"
   ]
  },
  {
   "cell_type": "code",
   "execution_count": null,
   "metadata": {},
   "outputs": [],
   "source": []
  }
 ],
 "metadata": {
  "kernelspec": {
   "display_name": "Python 3",
   "language": "python",
   "name": "python3"
  },
  "language_info": {
   "codemirror_mode": {
    "name": "ipython",
    "version": 3
   },
   "file_extension": ".py",
   "mimetype": "text/x-python",
   "name": "python",
   "nbconvert_exporter": "python",
   "pygments_lexer": "ipython3",
   "version": "3.11.1"
  },
  "orig_nbformat": 4,
  "vscode": {
   "interpreter": {
    "hash": "1a1af0ee75eeea9e2e1ee996c87e7a2b11a0bebd85af04bb136d915cefc0abce"
   }
  }
 },
 "nbformat": 4,
 "nbformat_minor": 2
}
